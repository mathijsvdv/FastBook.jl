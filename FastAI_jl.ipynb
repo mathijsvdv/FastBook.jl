{
  "nbformat": 4,
  "nbformat_minor": 0,
  "metadata": {
    "colab": {
      "name": "FastAI.jl.ipynb",
      "provenance": [],
      "collapsed_sections": [],
      "include_colab_link": true
    },
    "kernelspec": {
      "name": "julia",
      "display_name": "Julia"
    },
    "accelerator": "GPU"
  },
  "cells": [
    {
      "cell_type": "markdown",
      "metadata": {
        "id": "view-in-github",
        "colab_type": "text"
      },
      "source": [
        "<a href=\"https://colab.research.google.com/github/mathijsvdv/FastBook.jl/blob/main/FastAI_jl.ipynb\" target=\"_parent\"><img src=\"https://colab.research.google.com/assets/colab-badge.svg\" alt=\"Open In Colab\"/></a>"
      ]
    },
    {
      "cell_type": "markdown",
      "metadata": {
        "id": "F3V8Q6zU-Nm1"
      },
      "source": [
        "# FastAI.jl for Colab\n",
        "\n",
        "This is a template for running [FastAI.jl](https://github.com/FluxML/FastAI.jl) on Colab to get free access to a GPU. Since Julia is not an officially supported language, you will have to follow the steps in the *Setup* section the first time you run it and whenever the workspace is reset.\n",
        "\n",
        "## Setup\n",
        "\n",
        "1. Work on a copy of this notebook: File > Save a copy in Drive (you will need a Google account). Alternatively, you can download the notebook using File > Download .ipynb, then upload it to Colab.\n",
        "2. If you need a GPU: Runtime > Change runtime type > Harware accelerator = GPU.\n",
        "3. Execute the following cell (click on it and press Ctrl+Enter) to install Julia, IJulia and other packages (if needed, update JULIA_VERSION and the other parameters). This takes a couple of minutes.\n",
        "4. Reload this page (press Ctrl+R, or ⌘+R, or the F5 key) and continue to the next section.\n"
      ]
    },
    {
      "cell_type": "code",
      "metadata": {
        "id": "bqp7S32ULebR",
        "colab": {
          "base_uri": "https://localhost:8080/"
        },
        "outputId": "b81ebfa2-69cc-4da8-9945-4ff4219d6ccd"
      },
      "source": [
        "%%shell\n",
        "set -e\n",
        "\n",
        "#---------------------------------------------------#\n",
        "JULIA_VERSION=\"1.6.2\"\n",
        "export JULIA_PACKAGES=\"CUDA IJulia CairoMakie\"\n",
        "JULIA_NUM_THREADS=\"2\"\n",
        "#---------------------------------------------------#\n",
        "\n",
        "if [ -n \"$COLAB_GPU\" ] && [ -z `which julia` ]; then\n",
        "  # Install Julia\n",
        "  JULIA_VER=`cut -d '.' -f -2 <<< \"$JULIA_VERSION\"`\n",
        "  echo \"Installing Julia $JULIA_VERSION on the current Colab Runtime...\"\n",
        "  BASE_URL=\"https://julialang-s3.julialang.org/bin/linux/x64\"\n",
        "  URL=\"$BASE_URL/$JULIA_VER/julia-$JULIA_VERSION-linux-x86_64.tar.gz\"\n",
        "  wget -nv $URL -O /tmp/julia.tar.gz # -nv means \"not verbose\"\n",
        "  tar -x -f /tmp/julia.tar.gz -C /usr/local --strip-components 1\n",
        "  rm /tmp/julia.tar.gz\n",
        "\n",
        "  # Install Packages\n",
        "  echo \"Installing Julia packages, this may take up to 15 minutes. \"\n",
        "  julia -e 'using Pkg; Pkg.add([\"CUDA\", \"IJulia\", \"CairoMakie\"]); Pkg.add(Pkg.PackageSpec(url=\"https://github.com/FluxML/FastAI.jl\")); Pkg.precompile()' &> /dev/null\n",
        "\n",
        "  # Install kernel and rename it to \"julia\"\n",
        "  echo \"Installing IJulia kernel...\"\n",
        "  julia -e 'using IJulia; IJulia.installkernel(\"julia\", env=Dict(\n",
        "      \"JULIA_NUM_THREADS\"=>\"'\"$JULIA_NUM_THREADS\"'\"))'\n",
        "  KERNEL_DIR=`julia -e \"using IJulia; print(IJulia.kerneldir())\"`\n",
        "  KERNEL_NAME=`ls -d \"$KERNEL_DIR\"/julia*`\n",
        "  mv -f $KERNEL_NAME \"$KERNEL_DIR\"/julia  \n",
        "\n",
        "  echo ''\n",
        "  echo \"Success! Please reload this page and jump to the next section.\"\n",
        "fi"
      ],
      "execution_count": null,
      "outputs": [
        {
          "output_type": "stream",
          "text": [
            "Installing Julia 1.6.2 on the current Colab Runtime...\n",
            "2021-08-27 12:51:24 URL:https://storage.googleapis.com/julialang2/bin/linux/x64/1.6/julia-1.6.2-linux-x86_64.tar.gz [112946671/112946671] -> \"/tmp/julia.tar.gz\" [1]\n",
            "Installing Julia packages, this may take up to 15 minutes. \n"
          ],
          "name": "stdout"
        }
      ]
    },
    {
      "cell_type": "markdown",
      "metadata": {
        "id": "WEtE48X8AHjZ"
      },
      "source": [
        "## FastAI.jl\n",
        "\n",
        "Here you can execute Julia code as usual, for example following [this tutorial](https://fluxml.ai/FastAI.jl/dev/notebooks/fitonecycle.ipynb.html). Note that the first time running training code in a session will take a long time for compilation. On subsequent runs, the code will not have to be recompiled as long as you keep the session alive."
      ]
    },
    {
      "cell_type": "code",
      "metadata": {
        "colab": {
          "base_uri": "https://localhost:8080/"
        },
        "id": "9eoYQDEAQYMR",
        "outputId": "83f2a4aa-1edd-4ee4-ae73-eb578598675c"
      },
      "source": [
        "versioninfo()"
      ],
      "execution_count": null,
      "outputs": [
        {
          "output_type": "stream",
          "text": [
            "Julia Version 1.6.2\n",
            "Commit 1b93d53fc4 (2021-07-14 15:36 UTC)\n",
            "Platform Info:\n",
            "  OS: Linux (x86_64-pc-linux-gnu)\n",
            "  CPU: Intel(R) Xeon(R) CPU @ 2.30GHz\n",
            "  WORD_SIZE: 64\n",
            "  LIBM: libopenlibm\n",
            "  LLVM: libLLVM-11.0.1 (ORCJIT, haswell)\n",
            "Environment:\n",
            "  JULIA_NUM_THREADS = 2\n"
          ],
          "name": "stdout"
        }
      ]
    },
    {
      "cell_type": "code",
      "metadata": {
        "id": "aJ1xYrPVAVF-",
        "colab": {
          "base_uri": "https://localhost:8080/"
        },
        "outputId": "ac306f59-d14e-4e85-c038-f58be990287b"
      },
      "source": [
        "using FastAI\n",
        "data, blocks = loaddataset(\"imagenette2-160\", (Image, Label))\n",
        "method = ImageClassificationSingle(blocks)\n",
        "learner = methodlearner(method, data, Models.xresnet18(), ToGPU(), Metrics(accuracy))\n",
        "fitonecycle!(learner, 10, 0.002)"
      ],
      "execution_count": null,
      "outputs": [
        {
          "output_type": "stream",
          "text": [
            "This program has requested access to the data dependency fastai-imagenette2-160.\n",
            "which is not currently installed. It can be installed automatically, and you will not see this message again.\n",
            "\n",
            "\"imagenette2-160\" from the fastai dataset repository (https://course.fast.ai/datasets)\n",
            "\n",
            "\n",
            "\n",
            "Download size: ???\n",
            "\n",
            "\n",
            "\n",
            "Do you want to download the dataset from https://s3.amazonaws.com/fast-ai-imageclas/imagenette2-160.tgz to \"/root/.julia/datadeps/fastai-imagenette2-160\"?\n",
            "[y/n]\n",
            "stdin> y\n"
          ],
          "name": "stdout"
        },
        {
          "output_type": "stream",
          "text": [
            "┌ Info: Downloading\n",
            "│   source = https://s3.amazonaws.com/fast-ai-imageclas/imagenette2-160.tgz\n",
            "│   dest = /root/.julia/datadeps/fastai-imagenette2-160/imagenette2-160.tgz\n",
            "│   progress = 1.0\n",
            "│   time_taken = 3.41 s\n",
            "│   time_remaining = 0.0 s\n",
            "│   average_speed = 27.721 MiB/s\n",
            "│   downloaded = 94.417 MiB\n",
            "│   remaining = 0 bytes\n",
            "│   total = 94.417 MiB\n",
            "└ @ HTTP /root/.julia/packages/HTTP/4AvE2/src/download.jl:128\n"
          ],
          "name": "stderr"
        },
        {
          "output_type": "stream",
          "text": [
            "\n",
            "7-Zip (a) [64] 16.02 : Copyright (c) 1999-2016 Igor Pavlov : 2016-05-21\n",
            "p7zip Version 16.02 (locale=en_US.UTF-8,Utf16=on,HugeFiles=on,64 bits,2 CPUs Intel(R) Xeon(R) CPU @ 2.30GHz (306F0),ASM,AES-NI)\n",
            "\n",
            "\n",
            "Extracting archive: \n",
            "--\n",
            "Path = \n",
            "Type = tar\n",
            "Code Page = UTF-8\n",
            "\n",
            "Everything is Ok\n",
            "\n",
            "Folders: 23\n",
            "Files: 13397\n",
            "Size:       107794109\n",
            "Compressed: 6872064\n"
          ],
          "name": "stdout"
        },
        {
          "output_type": "stream",
          "text": [
            "\u001b[32mEpoch 1 TrainingPhase(): 100%|██████████████████████████| Time: 0:04:29\u001b[39m\n"
          ],
          "name": "stderr"
        },
        {
          "output_type": "stream",
          "text": [
            "┌───────────────┬───────┬────────┬──────────┐\n",
            "│\u001b[1m         Phase \u001b[0m│\u001b[1m Epoch \u001b[0m│\u001b[1m   Loss \u001b[0m│\u001b[1m Accuracy \u001b[0m│\n",
            "├───────────────┼───────┼────────┼──────────┤\n",
            "│ TrainingPhase │   1.0 │ 1.9144 │  0.39228 │\n",
            "└───────────────┴───────┴────────┴──────────┘\n"
          ],
          "name": "stdout"
        },
        {
          "output_type": "stream",
          "text": [
            "\u001b[32mEpoch 1 ValidationPhase(): 100%|████████████████████████| Time: 0:00:16\u001b[39m\n"
          ],
          "name": "stderr"
        },
        {
          "output_type": "stream",
          "text": [
            "┌─────────────────┬───────┬─────────┬──────────┐\n",
            "│\u001b[1m           Phase \u001b[0m│\u001b[1m Epoch \u001b[0m│\u001b[1m    Loss \u001b[0m│\u001b[1m Accuracy \u001b[0m│\n",
            "├─────────────────┼───────┼─────────┼──────────┤\n",
            "│ ValidationPhase │   1.0 │ 1.59342 │  0.47786 │\n",
            "└─────────────────┴───────┴─────────┴──────────┘\n"
          ],
          "name": "stdout"
        },
        {
          "output_type": "stream",
          "text": [
            "\u001b[32mEpoch 2 TrainingPhase(): 100%|██████████████████████████| Time: 0:01:14\u001b[39m\n"
          ],
          "name": "stderr"
        },
        {
          "output_type": "stream",
          "text": [
            "┌───────────────┬───────┬─────────┬──────────┐\n",
            "│\u001b[1m         Phase \u001b[0m│\u001b[1m Epoch \u001b[0m│\u001b[1m    Loss \u001b[0m│\u001b[1m Accuracy \u001b[0m│\n",
            "├───────────────┼───────┼─────────┼──────────┤\n",
            "│ TrainingPhase │   2.0 │ 1.43254 │  0.53686 │\n",
            "└───────────────┴───────┴─────────┴──────────┘\n"
          ],
          "name": "stdout"
        },
        {
          "output_type": "stream",
          "text": [
            "\u001b[32mEpoch 2 ValidationPhase(): 100%|████████████████████████| Time: 0:00:08\u001b[39m\n"
          ],
          "name": "stderr"
        },
        {
          "output_type": "stream",
          "text": [
            "┌─────────────────┬───────┬─────────┬──────────┐\n",
            "│\u001b[1m           Phase \u001b[0m│\u001b[1m Epoch \u001b[0m│\u001b[1m    Loss \u001b[0m│\u001b[1m Accuracy \u001b[0m│\n",
            "├─────────────────┼───────┼─────────┼──────────┤\n",
            "│ ValidationPhase │   2.0 │ 1.21737 │  0.60418 │\n",
            "└─────────────────┴───────┴─────────┴──────────┘\n"
          ],
          "name": "stdout"
        },
        {
          "output_type": "stream",
          "text": [
            "\u001b[32mEpoch 3 TrainingPhase(): 100%|██████████████████████████| Time: 0:01:14\u001b[39m\n"
          ],
          "name": "stderr"
        },
        {
          "output_type": "stream",
          "text": [
            "┌───────────────┬───────┬─────────┬──────────┐\n",
            "│\u001b[1m         Phase \u001b[0m│\u001b[1m Epoch \u001b[0m│\u001b[1m    Loss \u001b[0m│\u001b[1m Accuracy \u001b[0m│\n",
            "├───────────────┼───────┼─────────┼──────────┤\n",
            "│ TrainingPhase │   3.0 │ 1.15867 │  0.61643 │\n",
            "└───────────────┴───────┴─────────┴──────────┘\n"
          ],
          "name": "stdout"
        },
        {
          "output_type": "stream",
          "text": [
            "\u001b[32mEpoch 3 ValidationPhase(): 100%|████████████████████████| Time: 0:00:07\u001b[39m\n"
          ],
          "name": "stderr"
        },
        {
          "output_type": "stream",
          "text": [
            "┌─────────────────┬───────┬─────────┬──────────┐\n",
            "│\u001b[1m           Phase \u001b[0m│\u001b[1m Epoch \u001b[0m│\u001b[1m    Loss \u001b[0m│\u001b[1m Accuracy \u001b[0m│\n",
            "├─────────────────┼───────┼─────────┼──────────┤\n",
            "│ ValidationPhase │   3.0 │ 0.86078 │  0.73022 │\n",
            "└─────────────────┴───────┴─────────┴──────────┘\n"
          ],
          "name": "stdout"
        },
        {
          "output_type": "stream",
          "text": [
            "\u001b[32mEpoch 4 TrainingPhase(): 100%|██████████████████████████| Time: 0:01:11\u001b[39m\n"
          ],
          "name": "stderr"
        },
        {
          "output_type": "stream",
          "text": [
            "┌───────────────┬───────┬─────────┬──────────┐\n",
            "│\u001b[1m         Phase \u001b[0m│\u001b[1m Epoch \u001b[0m│\u001b[1m    Loss \u001b[0m│\u001b[1m Accuracy \u001b[0m│\n",
            "├───────────────┼───────┼─────────┼──────────┤\n",
            "│ TrainingPhase │   4.0 │ 0.91104 │  0.69861 │\n",
            "└───────────────┴───────┴─────────┴──────────┘\n"
          ],
          "name": "stdout"
        },
        {
          "output_type": "stream",
          "text": [
            "\u001b[32mEpoch 4 ValidationPhase(): 100%|████████████████████████| Time: 0:00:08\u001b[39m\n"
          ],
          "name": "stderr"
        },
        {
          "output_type": "stream",
          "text": [
            "┌─────────────────┬───────┬─────────┬──────────┐\n",
            "│\u001b[1m           Phase \u001b[0m│\u001b[1m Epoch \u001b[0m│\u001b[1m    Loss \u001b[0m│\u001b[1m Accuracy \u001b[0m│\n",
            "├─────────────────┼───────┼─────────┼──────────┤\n",
            "│ ValidationPhase │   4.0 │ 0.70613 │   0.7779 │\n",
            "└─────────────────┴───────┴─────────┴──────────┘\n"
          ],
          "name": "stdout"
        },
        {
          "output_type": "stream",
          "text": [
            "\u001b[32mEpoch 5 TrainingPhase(): 100%|██████████████████████████| Time: 0:01:11\u001b[39m\n"
          ],
          "name": "stderr"
        },
        {
          "output_type": "stream",
          "text": [
            "┌───────────────┬───────┬─────────┬──────────┐\n",
            "│\u001b[1m         Phase \u001b[0m│\u001b[1m Epoch \u001b[0m│\u001b[1m    Loss \u001b[0m│\u001b[1m Accuracy \u001b[0m│\n",
            "├───────────────┼───────┼─────────┼──────────┤\n",
            "│ TrainingPhase │   5.0 │ 0.74564 │  0.75756 │\n",
            "└───────────────┴───────┴─────────┴──────────┘\n"
          ],
          "name": "stdout"
        },
        {
          "output_type": "stream",
          "text": [
            "\u001b[32mEpoch 5 ValidationPhase(): 100%|████████████████████████| Time: 0:00:07\u001b[39m\n"
          ],
          "name": "stderr"
        },
        {
          "output_type": "stream",
          "text": [
            "┌─────────────────┬───────┬─────────┬──────────┐\n",
            "│\u001b[1m           Phase \u001b[0m│\u001b[1m Epoch \u001b[0m│\u001b[1m    Loss \u001b[0m│\u001b[1m Accuracy \u001b[0m│\n",
            "├─────────────────┼───────┼─────────┼──────────┤\n",
            "│ ValidationPhase │   5.0 │ 0.64391 │  0.80417 │\n",
            "└─────────────────┴───────┴─────────┴──────────┘\n"
          ],
          "name": "stdout"
        }
      ]
    },
    {
      "cell_type": "code",
      "metadata": {
        "id": "QpbejaGksiOz"
      },
      "source": [
        "import CairoMakie\n",
        "plotpredictions(method, learner)"
      ],
      "execution_count": null,
      "outputs": []
    }
  ]
}